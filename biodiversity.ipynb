{
 "cells": [
  {
   "cell_type": "code",
   "execution_count": 119,
   "metadata": {},
   "outputs": [
    {
     "name": "stdout",
     "output_type": "stream",
     "text": [
      "            scientific_name                            park_name  observations\n",
      "0        Vicia benghalensis  Great Smoky Mountains National Park            68\n",
      "1            Neovison vison  Great Smoky Mountains National Park            77\n",
      "2         Prunus subcordata               Yosemite National Park           138\n",
      "3      Abutilon theophrasti                  Bryce National Park            84\n",
      "4  Githopsis specularioides  Great Smoky Mountains National Park            85\n",
      "  category                scientific_name  \\\n",
      "0   Mammal  Clethrionomys gapperi gapperi   \n",
      "1   Mammal                      Bos bison   \n",
      "2   Mammal                     Bos taurus   \n",
      "3   Mammal                     Ovis aries   \n",
      "4   Mammal                 Cervus elaphus   \n",
      "\n",
      "                                        common_names conservation_status  \n",
      "0                           Gapper's Red-Backed Vole                 NaN  \n",
      "1                              American Bison, Bison                 NaN  \n",
      "2  Aurochs, Aurochs, Domestic Cattle (Feral), Dom...                 NaN  \n",
      "3  Domestic Sheep, Mouflon, Red Sheep, Sheep (Feral)                 NaN  \n",
      "4                                      Wapiti Or Elk                 NaN  \n"
     ]
    }
   ],
   "source": [
    "# importing relevant libraries, loading datasets and previewing datasets\n",
    "import pandas as pd\n",
    "import matplotlib as plt\n",
    "from sklearn.neighbors import KNeighborsClassifier\n",
    "from sklearn.model_selection import train_test_split\n",
    "from sklearn.metrics import accuracy_score\n",
    "observations = pd.read_csv('observations.csv')\n",
    "print(observations.head())\n",
    "species_info = pd.read_csv('species_info.csv')\n",
    "print(species_info.head())"
   ]
  },
  {
   "cell_type": "code",
   "execution_count": 121,
   "metadata": {},
   "outputs": [
    {
     "name": "stdout",
     "output_type": "stream",
     "text": [
      "  category                scientific_name              common_names  \\\n",
      "0   Mammal  Clethrionomys gapperi gapperi  Gapper's Red-Backed Vole   \n",
      "1   Mammal  Clethrionomys gapperi gapperi  Gapper's Red-Backed Vole   \n",
      "2   Mammal  Clethrionomys gapperi gapperi  Gapper's Red-Backed Vole   \n",
      "3   Mammal  Clethrionomys gapperi gapperi  Gapper's Red-Backed Vole   \n",
      "4   Mammal                      Bos bison     American Bison, Bison   \n",
      "\n",
      "  conservation_status                            park_name  observations  \n",
      "0                 NaN                  Bryce National Park           130  \n",
      "1                 NaN            Yellowstone National Park           270  \n",
      "2                 NaN  Great Smoky Mountains National Park            98  \n",
      "3                 NaN               Yosemite National Park           117  \n",
      "4                 NaN               Yosemite National Park           128  \n"
     ]
    }
   ],
   "source": [
    "# merging two datasets and previewing merged dataset\n",
    "comb_table = pd.merge(species_info, observations)\n",
    "print(comb_table.head())"
   ]
  },
  {
   "cell_type": "code",
   "execution_count": 127,
   "metadata": {},
   "outputs": [
    {
     "name": "stdout",
     "output_type": "stream",
     "text": [
      "['Bryce National Park' 'Yellowstone National Park'\n",
      " 'Great Smoky Mountains National Park' 'Yosemite National Park']\n",
      "  category                scientific_name              common_names  \\\n",
      "0   Mammal  Clethrionomys gapperi gapperi  Gapper's Red-Backed Vole   \n",
      "1   Mammal  Clethrionomys gapperi gapperi  Gapper's Red-Backed Vole   \n",
      "2   Mammal  Clethrionomys gapperi gapperi  Gapper's Red-Backed Vole   \n",
      "3   Mammal  Clethrionomys gapperi gapperi  Gapper's Red-Backed Vole   \n",
      "4   Mammal                      Bos bison     American Bison, Bison   \n",
      "\n",
      "  conservation_status                            park_name  observations  \\\n",
      "0                 NaN                  Bryce National Park           130   \n",
      "1                 NaN            Yellowstone National Park           270   \n",
      "2                 NaN  Great Smoky Mountains National Park            98   \n",
      "3                 NaN               Yosemite National Park           117   \n",
      "4                 NaN               Yosemite National Park           128   \n",
      "\n",
      "   Bryce National Park  Yellowstone National Park  \\\n",
      "0                  130                          0   \n",
      "1                    0                        270   \n",
      "2                    0                          0   \n",
      "3                    0                          0   \n",
      "4                    0                          0   \n",
      "\n",
      "   Great Smoky Mountains National Park  Yosemite National Park  \n",
      "0                                    0                       0  \n",
      "1                                    0                       0  \n",
      "2                                   98                       0  \n",
      "3                                    0                     117  \n",
      "4                                    0                     128  \n",
      "        scientific_name  Bryce National Park  Yellowstone National Park  \\\n",
      "0         Abies bifolia                  109                        215   \n",
      "1        Abies concolor                   83                        241   \n",
      "2         Abies fraseri                  109                        218   \n",
      "3  Abietinella abietina                  101                        243   \n",
      "4     Abronia ammophila                   92                        222   \n",
      "\n",
      "   Great Smoky Mountains National Park  Yosemite National Park  \\\n",
      "0                                   72                     136   \n",
      "1                                  101                     205   \n",
      "2                                   81                     110   \n",
      "3                                   65                     183   \n",
      "4                                   72                     137   \n",
      "\n",
      "            category  \n",
      "0     Vascular Plant  \n",
      "1     Vascular Plant  \n",
      "2     Vascular Plant  \n",
      "3  Nonvascular Plant  \n",
      "4     Vascular Plant  \n"
     ]
    }
   ],
   "source": [
    "# Building a final table with each row representing each unique species and columns representing the counts of the species in the four parks\n",
    "parks_name_list = comb_table.park_name.unique()\n",
    "print(parks_name_list)\n",
    "for park in parks_name_list:\n",
    "    comb_table[park] = comb_table.apply(lambda row: row['observations'] if row['park_name']  == park else 0, axis=1)\n",
    "final_table = comb_table.groupby('scientific_name').agg({'Bryce National Park': 'sum', 'Yellowstone National Park': 'sum', 'Great Smoky Mountains National Park': 'sum', 'Yosemite National Park': 'sum', 'category': 'first'}).reset_index()\n",
    "print(comb_table.head())\n",
    "print(final_table.head())"
   ]
  },
  {
   "cell_type": "code",
   "execution_count": 129,
   "metadata": {},
   "outputs": [],
   "source": [
    "# splitting the table into feature and label sets and then dividing them into training and test sets\n",
    "features = final_table.iloc[:, 1:5]\n",
    "labels = final_table.iloc[:,-1]\n",
    "training_features, testing_features, training_labels, testing_labels = train_test_split(features, labels, test_size = 0.2)"
   ]
  },
  {
   "cell_type": "code",
   "execution_count": 131,
   "metadata": {},
   "outputs": [
    {
     "name": "stdout",
     "output_type": "stream",
     "text": [
      "0.7709648331830478\n"
     ]
    }
   ],
   "source": [
    "# Building the K-Nearest neighbors model, fitting it on the training set and testing it on the test set\n",
    "classifier = KNeighborsClassifier(n_neighbors = 9)\n",
    "classifier.fit(training_features, training_labels)\n",
    "guesses = classifier.predict(testing_features)\n",
    "print(accuracy_score(guesses, testing_labels))"
   ]
  },
  {
   "cell_type": "code",
   "execution_count": null,
   "metadata": {},
   "outputs": [],
   "source": []
  }
 ],
 "metadata": {
  "kernelspec": {
   "display_name": "Python 3 (ipykernel)",
   "language": "python",
   "name": "python3"
  },
  "language_info": {
   "codemirror_mode": {
    "name": "ipython",
    "version": 3
   },
   "file_extension": ".py",
   "mimetype": "text/x-python",
   "name": "python",
   "nbconvert_exporter": "python",
   "pygments_lexer": "ipython3",
   "version": "3.12.4"
  }
 },
 "nbformat": 4,
 "nbformat_minor": 4
}
